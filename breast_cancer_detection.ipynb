{
  "cells": [
    {
      "cell_type": "markdown",
      "metadata": {
        "id": "UUtyHDSoVE2H"
      },
      "source": [
        "##**Breast Cancer Detection Using classification**"
      ]
    },
    {
      "cell_type": "code",
      "execution_count": 34,
      "metadata": {
        "id": "xoQuMZ5sTbCW"
      },
      "outputs": [],
      "source": [
        "#importing all required libraries\n",
        "\n",
        "from sklearn.datasets import load_breast_cancer\n",
        "from sklearn.preprocessing import StandardScaler\n",
        "\n",
        "from keras.models import Sequential\n",
        "from keras.layers  import Dense\n",
        "\n",
        "import numpy as np\n",
        "import pandas as pd"
      ]
    },
    {
      "cell_type": "code",
      "execution_count": 35,
      "metadata": {
        "id": "Ym73_u6gWivh",
        "colab": {
          "base_uri": "https://localhost:8080/"
        },
        "outputId": "410f074e-2db8-45df-b1e9-395884466d93"
      },
      "outputs": [
        {
          "output_type": "stream",
          "name": "stdout",
          "text": [
            "{'data': array([[1.799e+01, 1.038e+01, 1.228e+02, ..., 2.654e-01, 4.601e-01,\n",
            "        1.189e-01],\n",
            "       [2.057e+01, 1.777e+01, 1.329e+02, ..., 1.860e-01, 2.750e-01,\n",
            "        8.902e-02],\n",
            "       [1.969e+01, 2.125e+01, 1.300e+02, ..., 2.430e-01, 3.613e-01,\n",
            "        8.758e-02],\n",
            "       ...,\n",
            "       [1.660e+01, 2.808e+01, 1.083e+02, ..., 1.418e-01, 2.218e-01,\n",
            "        7.820e-02],\n",
            "       [2.060e+01, 2.933e+01, 1.401e+02, ..., 2.650e-01, 4.087e-01,\n",
            "        1.240e-01],\n",
            "       [7.760e+00, 2.454e+01, 4.792e+01, ..., 0.000e+00, 2.871e-01,\n",
            "        7.039e-02]]), 'target': array([0, 0, 0, 0, 0, 0, 0, 0, 0, 0, 0, 0, 0, 0, 0, 0, 0, 0, 0, 1, 1, 1,\n",
            "       0, 0, 0, 0, 0, 0, 0, 0, 0, 0, 0, 0, 0, 0, 0, 1, 0, 0, 0, 0, 0, 0,\n",
            "       0, 0, 1, 0, 1, 1, 1, 1, 1, 0, 0, 1, 0, 0, 1, 1, 1, 1, 0, 1, 0, 0,\n",
            "       1, 1, 1, 1, 0, 1, 0, 0, 1, 0, 1, 0, 0, 1, 1, 1, 0, 0, 1, 0, 0, 0,\n",
            "       1, 1, 1, 0, 1, 1, 0, 0, 1, 1, 1, 0, 0, 1, 1, 1, 1, 0, 1, 1, 0, 1,\n",
            "       1, 1, 1, 1, 1, 1, 1, 0, 0, 0, 1, 0, 0, 1, 1, 1, 0, 0, 1, 0, 1, 0,\n",
            "       0, 1, 0, 0, 1, 1, 0, 1, 1, 0, 1, 1, 1, 1, 0, 1, 1, 1, 1, 1, 1, 1,\n",
            "       1, 1, 0, 1, 1, 1, 1, 0, 0, 1, 0, 1, 1, 0, 0, 1, 1, 0, 0, 1, 1, 1,\n",
            "       1, 0, 1, 1, 0, 0, 0, 1, 0, 1, 0, 1, 1, 1, 0, 1, 1, 0, 0, 1, 0, 0,\n",
            "       0, 0, 1, 0, 0, 0, 1, 0, 1, 0, 1, 1, 0, 1, 0, 0, 0, 0, 1, 1, 0, 0,\n",
            "       1, 1, 1, 0, 1, 1, 1, 1, 1, 0, 0, 1, 1, 0, 1, 1, 0, 0, 1, 0, 1, 1,\n",
            "       1, 1, 0, 1, 1, 1, 1, 1, 0, 1, 0, 0, 0, 0, 0, 0, 0, 0, 0, 0, 0, 0,\n",
            "       0, 0, 1, 1, 1, 1, 1, 1, 0, 1, 0, 1, 1, 0, 1, 1, 0, 1, 0, 0, 1, 1,\n",
            "       1, 1, 1, 1, 1, 1, 1, 1, 1, 1, 1, 0, 1, 1, 0, 1, 0, 1, 1, 1, 1, 1,\n",
            "       1, 1, 1, 1, 1, 1, 1, 1, 1, 0, 1, 1, 1, 0, 1, 0, 1, 1, 1, 1, 0, 0,\n",
            "       0, 1, 1, 1, 1, 0, 1, 0, 1, 0, 1, 1, 1, 0, 1, 1, 1, 1, 1, 1, 1, 0,\n",
            "       0, 0, 1, 1, 1, 1, 1, 1, 1, 1, 1, 1, 1, 0, 0, 1, 0, 0, 0, 1, 0, 0,\n",
            "       1, 1, 1, 1, 1, 0, 1, 1, 1, 1, 1, 0, 1, 1, 1, 0, 1, 1, 0, 0, 1, 1,\n",
            "       1, 1, 1, 1, 0, 1, 1, 1, 1, 1, 1, 1, 0, 1, 1, 1, 1, 1, 0, 1, 1, 0,\n",
            "       1, 1, 1, 1, 1, 1, 1, 1, 1, 1, 1, 1, 0, 1, 0, 0, 1, 0, 1, 1, 1, 1,\n",
            "       1, 0, 1, 1, 0, 1, 0, 1, 1, 0, 1, 0, 1, 1, 1, 1, 1, 1, 1, 1, 0, 0,\n",
            "       1, 1, 1, 1, 1, 1, 0, 1, 1, 1, 1, 1, 1, 1, 1, 1, 1, 0, 1, 1, 1, 1,\n",
            "       1, 1, 1, 0, 1, 0, 1, 1, 0, 1, 1, 1, 1, 1, 0, 0, 1, 0, 1, 0, 1, 1,\n",
            "       1, 1, 1, 0, 1, 1, 0, 1, 0, 1, 0, 0, 1, 1, 1, 0, 1, 1, 1, 1, 1, 1,\n",
            "       1, 1, 1, 1, 1, 0, 1, 0, 0, 1, 1, 1, 1, 1, 1, 1, 1, 1, 1, 1, 1, 1,\n",
            "       1, 1, 1, 1, 1, 1, 1, 1, 1, 1, 1, 1, 0, 0, 0, 0, 0, 0, 1]), 'frame': None, 'target_names': array(['malignant', 'benign'], dtype='<U9'), 'DESCR': '.. _breast_cancer_dataset:\\n\\nBreast cancer wisconsin (diagnostic) dataset\\n--------------------------------------------\\n\\n**Data Set Characteristics:**\\n\\n    :Number of Instances: 569\\n\\n    :Number of Attributes: 30 numeric, predictive attributes and the class\\n\\n    :Attribute Information:\\n        - radius (mean of distances from center to points on the perimeter)\\n        - texture (standard deviation of gray-scale values)\\n        - perimeter\\n        - area\\n        - smoothness (local variation in radius lengths)\\n        - compactness (perimeter^2 / area - 1.0)\\n        - concavity (severity of concave portions of the contour)\\n        - concave points (number of concave portions of the contour)\\n        - symmetry\\n        - fractal dimension (\"coastline approximation\" - 1)\\n\\n        The mean, standard error, and \"worst\" or largest (mean of the three\\n        worst/largest values) of these features were computed for each image,\\n        resulting in 30 features.  For instance, field 0 is Mean Radius, field\\n        10 is Radius SE, field 20 is Worst Radius.\\n\\n        - class:\\n                - WDBC-Malignant\\n                - WDBC-Benign\\n\\n    :Summary Statistics:\\n\\n    ===================================== ====== ======\\n                                           Min    Max\\n    ===================================== ====== ======\\n    radius (mean):                        6.981  28.11\\n    texture (mean):                       9.71   39.28\\n    perimeter (mean):                     43.79  188.5\\n    area (mean):                          143.5  2501.0\\n    smoothness (mean):                    0.053  0.163\\n    compactness (mean):                   0.019  0.345\\n    concavity (mean):                     0.0    0.427\\n    concave points (mean):                0.0    0.201\\n    symmetry (mean):                      0.106  0.304\\n    fractal dimension (mean):             0.05   0.097\\n    radius (standard error):              0.112  2.873\\n    texture (standard error):             0.36   4.885\\n    perimeter (standard error):           0.757  21.98\\n    area (standard error):                6.802  542.2\\n    smoothness (standard error):          0.002  0.031\\n    compactness (standard error):         0.002  0.135\\n    concavity (standard error):           0.0    0.396\\n    concave points (standard error):      0.0    0.053\\n    symmetry (standard error):            0.008  0.079\\n    fractal dimension (standard error):   0.001  0.03\\n    radius (worst):                       7.93   36.04\\n    texture (worst):                      12.02  49.54\\n    perimeter (worst):                    50.41  251.2\\n    area (worst):                         185.2  4254.0\\n    smoothness (worst):                   0.071  0.223\\n    compactness (worst):                  0.027  1.058\\n    concavity (worst):                    0.0    1.252\\n    concave points (worst):               0.0    0.291\\n    symmetry (worst):                     0.156  0.664\\n    fractal dimension (worst):            0.055  0.208\\n    ===================================== ====== ======\\n\\n    :Missing Attribute Values: None\\n\\n    :Class Distribution: 212 - Malignant, 357 - Benign\\n\\n    :Creator:  Dr. William H. Wolberg, W. Nick Street, Olvi L. Mangasarian\\n\\n    :Donor: Nick Street\\n\\n    :Date: November, 1995\\n\\nThis is a copy of UCI ML Breast Cancer Wisconsin (Diagnostic) datasets.\\nhttps://goo.gl/U2Uwz2\\n\\nFeatures are computed from a digitized image of a fine needle\\naspirate (FNA) of a breast mass.  They describe\\ncharacteristics of the cell nuclei present in the image.\\n\\nSeparating plane described above was obtained using\\nMultisurface Method-Tree (MSM-T) [K. P. Bennett, \"Decision Tree\\nConstruction Via Linear Programming.\" Proceedings of the 4th\\nMidwest Artificial Intelligence and Cognitive Science Society,\\npp. 97-101, 1992], a classification method which uses linear\\nprogramming to construct a decision tree.  Relevant features\\nwere selected using an exhaustive search in the space of 1-4\\nfeatures and 1-3 separating planes.\\n\\nThe actual linear program used to obtain the separating plane\\nin the 3-dimensional space is that described in:\\n[K. P. Bennett and O. L. Mangasarian: \"Robust Linear\\nProgramming Discrimination of Two Linearly Inseparable Sets\",\\nOptimization Methods and Software 1, 1992, 23-34].\\n\\nThis database is also available through the UW CS ftp server:\\n\\nftp ftp.cs.wisc.edu\\ncd math-prog/cpo-dataset/machine-learn/WDBC/\\n\\n.. topic:: References\\n\\n   - W.N. Street, W.H. Wolberg and O.L. Mangasarian. Nuclear feature extraction \\n     for breast tumor diagnosis. IS&T/SPIE 1993 International Symposium on \\n     Electronic Imaging: Science and Technology, volume 1905, pages 861-870,\\n     San Jose, CA, 1993.\\n   - O.L. Mangasarian, W.N. Street and W.H. Wolberg. Breast cancer diagnosis and \\n     prognosis via linear programming. Operations Research, 43(4), pages 570-577, \\n     July-August 1995.\\n   - W.H. Wolberg, W.N. Street, and O.L. Mangasarian. Machine learning techniques\\n     to diagnose breast cancer from fine-needle aspirates. Cancer Letters 77 (1994) \\n     163-171.', 'feature_names': array(['mean radius', 'mean texture', 'mean perimeter', 'mean area',\n",
            "       'mean smoothness', 'mean compactness', 'mean concavity',\n",
            "       'mean concave points', 'mean symmetry', 'mean fractal dimension',\n",
            "       'radius error', 'texture error', 'perimeter error', 'area error',\n",
            "       'smoothness error', 'compactness error', 'concavity error',\n",
            "       'concave points error', 'symmetry error',\n",
            "       'fractal dimension error', 'worst radius', 'worst texture',\n",
            "       'worst perimeter', 'worst area', 'worst smoothness',\n",
            "       'worst compactness', 'worst concavity', 'worst concave points',\n",
            "       'worst symmetry', 'worst fractal dimension'], dtype='<U23'), 'filename': 'breast_cancer.csv', 'data_module': 'sklearn.datasets.data'}\n"
          ]
        }
      ],
      "source": [
        "#load data from datsets\n",
        "\n",
        "data = load_breast_cancer()\n",
        "print(data)"
      ]
    },
    {
      "cell_type": "code",
      "source": [
        "type(data)"
      ],
      "metadata": {
        "colab": {
          "base_uri": "https://localhost:8080/"
        },
        "id": "oAKdYEf9TGI-",
        "outputId": "83c031b8-0f30-42a7-f7e7-923fe3dd2ab0"
      },
      "execution_count": 36,
      "outputs": [
        {
          "output_type": "execute_result",
          "data": {
            "text/plain": [
              "sklearn.utils.Bunch"
            ]
          },
          "metadata": {},
          "execution_count": 36
        }
      ]
    },
    {
      "cell_type": "code",
      "source": [
        "data.keys()"
      ],
      "metadata": {
        "colab": {
          "base_uri": "https://localhost:8080/"
        },
        "id": "k31NDmurTHsa",
        "outputId": "07d02982-4465-440b-a230-0ac7418ecc4d"
      },
      "execution_count": 37,
      "outputs": [
        {
          "output_type": "execute_result",
          "data": {
            "text/plain": [
              "dict_keys(['data', 'target', 'frame', 'target_names', 'DESCR', 'feature_names', 'filename', 'data_module'])"
            ]
          },
          "metadata": {},
          "execution_count": 37
        }
      ]
    },
    {
      "cell_type": "code",
      "source": [
        "description = data['DESCR']       #description of dataset\n",
        "print(description)"
      ],
      "metadata": {
        "colab": {
          "base_uri": "https://localhost:8080/"
        },
        "id": "NOXQlbILTMLk",
        "outputId": "08bbbaea-20a8-4496-ca40-6def8d73f96a"
      },
      "execution_count": 38,
      "outputs": [
        {
          "output_type": "stream",
          "name": "stdout",
          "text": [
            ".. _breast_cancer_dataset:\n",
            "\n",
            "Breast cancer wisconsin (diagnostic) dataset\n",
            "--------------------------------------------\n",
            "\n",
            "**Data Set Characteristics:**\n",
            "\n",
            "    :Number of Instances: 569\n",
            "\n",
            "    :Number of Attributes: 30 numeric, predictive attributes and the class\n",
            "\n",
            "    :Attribute Information:\n",
            "        - radius (mean of distances from center to points on the perimeter)\n",
            "        - texture (standard deviation of gray-scale values)\n",
            "        - perimeter\n",
            "        - area\n",
            "        - smoothness (local variation in radius lengths)\n",
            "        - compactness (perimeter^2 / area - 1.0)\n",
            "        - concavity (severity of concave portions of the contour)\n",
            "        - concave points (number of concave portions of the contour)\n",
            "        - symmetry\n",
            "        - fractal dimension (\"coastline approximation\" - 1)\n",
            "\n",
            "        The mean, standard error, and \"worst\" or largest (mean of the three\n",
            "        worst/largest values) of these features were computed for each image,\n",
            "        resulting in 30 features.  For instance, field 0 is Mean Radius, field\n",
            "        10 is Radius SE, field 20 is Worst Radius.\n",
            "\n",
            "        - class:\n",
            "                - WDBC-Malignant\n",
            "                - WDBC-Benign\n",
            "\n",
            "    :Summary Statistics:\n",
            "\n",
            "    ===================================== ====== ======\n",
            "                                           Min    Max\n",
            "    ===================================== ====== ======\n",
            "    radius (mean):                        6.981  28.11\n",
            "    texture (mean):                       9.71   39.28\n",
            "    perimeter (mean):                     43.79  188.5\n",
            "    area (mean):                          143.5  2501.0\n",
            "    smoothness (mean):                    0.053  0.163\n",
            "    compactness (mean):                   0.019  0.345\n",
            "    concavity (mean):                     0.0    0.427\n",
            "    concave points (mean):                0.0    0.201\n",
            "    symmetry (mean):                      0.106  0.304\n",
            "    fractal dimension (mean):             0.05   0.097\n",
            "    radius (standard error):              0.112  2.873\n",
            "    texture (standard error):             0.36   4.885\n",
            "    perimeter (standard error):           0.757  21.98\n",
            "    area (standard error):                6.802  542.2\n",
            "    smoothness (standard error):          0.002  0.031\n",
            "    compactness (standard error):         0.002  0.135\n",
            "    concavity (standard error):           0.0    0.396\n",
            "    concave points (standard error):      0.0    0.053\n",
            "    symmetry (standard error):            0.008  0.079\n",
            "    fractal dimension (standard error):   0.001  0.03\n",
            "    radius (worst):                       7.93   36.04\n",
            "    texture (worst):                      12.02  49.54\n",
            "    perimeter (worst):                    50.41  251.2\n",
            "    area (worst):                         185.2  4254.0\n",
            "    smoothness (worst):                   0.071  0.223\n",
            "    compactness (worst):                  0.027  1.058\n",
            "    concavity (worst):                    0.0    1.252\n",
            "    concave points (worst):               0.0    0.291\n",
            "    symmetry (worst):                     0.156  0.664\n",
            "    fractal dimension (worst):            0.055  0.208\n",
            "    ===================================== ====== ======\n",
            "\n",
            "    :Missing Attribute Values: None\n",
            "\n",
            "    :Class Distribution: 212 - Malignant, 357 - Benign\n",
            "\n",
            "    :Creator:  Dr. William H. Wolberg, W. Nick Street, Olvi L. Mangasarian\n",
            "\n",
            "    :Donor: Nick Street\n",
            "\n",
            "    :Date: November, 1995\n",
            "\n",
            "This is a copy of UCI ML Breast Cancer Wisconsin (Diagnostic) datasets.\n",
            "https://goo.gl/U2Uwz2\n",
            "\n",
            "Features are computed from a digitized image of a fine needle\n",
            "aspirate (FNA) of a breast mass.  They describe\n",
            "characteristics of the cell nuclei present in the image.\n",
            "\n",
            "Separating plane described above was obtained using\n",
            "Multisurface Method-Tree (MSM-T) [K. P. Bennett, \"Decision Tree\n",
            "Construction Via Linear Programming.\" Proceedings of the 4th\n",
            "Midwest Artificial Intelligence and Cognitive Science Society,\n",
            "pp. 97-101, 1992], a classification method which uses linear\n",
            "programming to construct a decision tree.  Relevant features\n",
            "were selected using an exhaustive search in the space of 1-4\n",
            "features and 1-3 separating planes.\n",
            "\n",
            "The actual linear program used to obtain the separating plane\n",
            "in the 3-dimensional space is that described in:\n",
            "[K. P. Bennett and O. L. Mangasarian: \"Robust Linear\n",
            "Programming Discrimination of Two Linearly Inseparable Sets\",\n",
            "Optimization Methods and Software 1, 1992, 23-34].\n",
            "\n",
            "This database is also available through the UW CS ftp server:\n",
            "\n",
            "ftp ftp.cs.wisc.edu\n",
            "cd math-prog/cpo-dataset/machine-learn/WDBC/\n",
            "\n",
            ".. topic:: References\n",
            "\n",
            "   - W.N. Street, W.H. Wolberg and O.L. Mangasarian. Nuclear feature extraction \n",
            "     for breast tumor diagnosis. IS&T/SPIE 1993 International Symposium on \n",
            "     Electronic Imaging: Science and Technology, volume 1905, pages 861-870,\n",
            "     San Jose, CA, 1993.\n",
            "   - O.L. Mangasarian, W.N. Street and W.H. Wolberg. Breast cancer diagnosis and \n",
            "     prognosis via linear programming. Operations Research, 43(4), pages 570-577, \n",
            "     July-August 1995.\n",
            "   - W.H. Wolberg, W.N. Street, and O.L. Mangasarian. Machine learning techniques\n",
            "     to diagnose breast cancer from fine-needle aspirates. Cancer Letters 77 (1994) \n",
            "     163-171.\n"
          ]
        }
      ]
    },
    {
      "cell_type": "code",
      "source": [
        "data['feature_names']       #feature names ~~ columns in the dataset"
      ],
      "metadata": {
        "colab": {
          "base_uri": "https://localhost:8080/"
        },
        "id": "toiUcJh-TrFn",
        "outputId": "cf775c58-291b-46cf-bc8e-06e24de802b4"
      },
      "execution_count": 39,
      "outputs": [
        {
          "output_type": "execute_result",
          "data": {
            "text/plain": [
              "array(['mean radius', 'mean texture', 'mean perimeter', 'mean area',\n",
              "       'mean smoothness', 'mean compactness', 'mean concavity',\n",
              "       'mean concave points', 'mean symmetry', 'mean fractal dimension',\n",
              "       'radius error', 'texture error', 'perimeter error', 'area error',\n",
              "       'smoothness error', 'compactness error', 'concavity error',\n",
              "       'concave points error', 'symmetry error',\n",
              "       'fractal dimension error', 'worst radius', 'worst texture',\n",
              "       'worst perimeter', 'worst area', 'worst smoothness',\n",
              "       'worst compactness', 'worst concavity', 'worst concave points',\n",
              "       'worst symmetry', 'worst fractal dimension'], dtype='<U23')"
            ]
          },
          "metadata": {},
          "execution_count": 39
        }
      ]
    },
    {
      "cell_type": "code",
      "source": [
        "data['data'][0]"
      ],
      "metadata": {
        "colab": {
          "base_uri": "https://localhost:8080/"
        },
        "id": "vj7VG2EgUAtz",
        "outputId": "f9848ac3-2ba1-41dd-a418-a3fa0b9e3888"
      },
      "execution_count": 40,
      "outputs": [
        {
          "output_type": "execute_result",
          "data": {
            "text/plain": [
              "array([1.799e+01, 1.038e+01, 1.228e+02, 1.001e+03, 1.184e-01, 2.776e-01,\n",
              "       3.001e-01, 1.471e-01, 2.419e-01, 7.871e-02, 1.095e+00, 9.053e-01,\n",
              "       8.589e+00, 1.534e+02, 6.399e-03, 4.904e-02, 5.373e-02, 1.587e-02,\n",
              "       3.003e-02, 6.193e-03, 2.538e+01, 1.733e+01, 1.846e+02, 2.019e+03,\n",
              "       1.622e-01, 6.656e-01, 7.119e-01, 2.654e-01, 4.601e-01, 1.189e-01])"
            ]
          },
          "metadata": {},
          "execution_count": 40
        }
      ]
    },
    {
      "cell_type": "code",
      "source": [
        "#all the feature names along with their mean values\n",
        "j=0\n",
        "for i in data['feature_names']:\n",
        "  print(i,\":\",data['data'][0][j])\n",
        "  j += 1"
      ],
      "metadata": {
        "colab": {
          "base_uri": "https://localhost:8080/"
        },
        "id": "PJa3TkDvUQaB",
        "outputId": "5f9c2ba8-12a5-4b91-9f7c-f7d31901a3a6"
      },
      "execution_count": 41,
      "outputs": [
        {
          "output_type": "stream",
          "name": "stdout",
          "text": [
            "mean radius : 17.99\n",
            "mean texture : 10.38\n",
            "mean perimeter : 122.8\n",
            "mean area : 1001.0\n",
            "mean smoothness : 0.1184\n",
            "mean compactness : 0.2776\n",
            "mean concavity : 0.3001\n",
            "mean concave points : 0.1471\n",
            "mean symmetry : 0.2419\n",
            "mean fractal dimension : 0.07871\n",
            "radius error : 1.095\n",
            "texture error : 0.9053\n",
            "perimeter error : 8.589\n",
            "area error : 153.4\n",
            "smoothness error : 0.006399\n",
            "compactness error : 0.04904\n",
            "concavity error : 0.05373\n",
            "concave points error : 0.01587\n",
            "symmetry error : 0.03003\n",
            "fractal dimension error : 0.006193\n",
            "worst radius : 25.38\n",
            "worst texture : 17.33\n",
            "worst perimeter : 184.6\n",
            "worst area : 2019.0\n",
            "worst smoothness : 0.1622\n",
            "worst compactness : 0.6656\n",
            "worst concavity : 0.7119\n",
            "worst concave points : 0.2654\n",
            "worst symmetry : 0.4601\n",
            "worst fractal dimension : 0.1189\n"
          ]
        }
      ]
    },
    {
      "cell_type": "code",
      "source": [
        "data['target']      "
      ],
      "metadata": {
        "colab": {
          "base_uri": "https://localhost:8080/"
        },
        "id": "va_3WAdYU735",
        "outputId": "5af134d6-7ab5-460f-9f15-aa8507fc29f6"
      },
      "execution_count": 42,
      "outputs": [
        {
          "output_type": "execute_result",
          "data": {
            "text/plain": [
              "array([0, 0, 0, 0, 0, 0, 0, 0, 0, 0, 0, 0, 0, 0, 0, 0, 0, 0, 0, 1, 1, 1,\n",
              "       0, 0, 0, 0, 0, 0, 0, 0, 0, 0, 0, 0, 0, 0, 0, 1, 0, 0, 0, 0, 0, 0,\n",
              "       0, 0, 1, 0, 1, 1, 1, 1, 1, 0, 0, 1, 0, 0, 1, 1, 1, 1, 0, 1, 0, 0,\n",
              "       1, 1, 1, 1, 0, 1, 0, 0, 1, 0, 1, 0, 0, 1, 1, 1, 0, 0, 1, 0, 0, 0,\n",
              "       1, 1, 1, 0, 1, 1, 0, 0, 1, 1, 1, 0, 0, 1, 1, 1, 1, 0, 1, 1, 0, 1,\n",
              "       1, 1, 1, 1, 1, 1, 1, 0, 0, 0, 1, 0, 0, 1, 1, 1, 0, 0, 1, 0, 1, 0,\n",
              "       0, 1, 0, 0, 1, 1, 0, 1, 1, 0, 1, 1, 1, 1, 0, 1, 1, 1, 1, 1, 1, 1,\n",
              "       1, 1, 0, 1, 1, 1, 1, 0, 0, 1, 0, 1, 1, 0, 0, 1, 1, 0, 0, 1, 1, 1,\n",
              "       1, 0, 1, 1, 0, 0, 0, 1, 0, 1, 0, 1, 1, 1, 0, 1, 1, 0, 0, 1, 0, 0,\n",
              "       0, 0, 1, 0, 0, 0, 1, 0, 1, 0, 1, 1, 0, 1, 0, 0, 0, 0, 1, 1, 0, 0,\n",
              "       1, 1, 1, 0, 1, 1, 1, 1, 1, 0, 0, 1, 1, 0, 1, 1, 0, 0, 1, 0, 1, 1,\n",
              "       1, 1, 0, 1, 1, 1, 1, 1, 0, 1, 0, 0, 0, 0, 0, 0, 0, 0, 0, 0, 0, 0,\n",
              "       0, 0, 1, 1, 1, 1, 1, 1, 0, 1, 0, 1, 1, 0, 1, 1, 0, 1, 0, 0, 1, 1,\n",
              "       1, 1, 1, 1, 1, 1, 1, 1, 1, 1, 1, 0, 1, 1, 0, 1, 0, 1, 1, 1, 1, 1,\n",
              "       1, 1, 1, 1, 1, 1, 1, 1, 1, 0, 1, 1, 1, 0, 1, 0, 1, 1, 1, 1, 0, 0,\n",
              "       0, 1, 1, 1, 1, 0, 1, 0, 1, 0, 1, 1, 1, 0, 1, 1, 1, 1, 1, 1, 1, 0,\n",
              "       0, 0, 1, 1, 1, 1, 1, 1, 1, 1, 1, 1, 1, 0, 0, 1, 0, 0, 0, 1, 0, 0,\n",
              "       1, 1, 1, 1, 1, 0, 1, 1, 1, 1, 1, 0, 1, 1, 1, 0, 1, 1, 0, 0, 1, 1,\n",
              "       1, 1, 1, 1, 0, 1, 1, 1, 1, 1, 1, 1, 0, 1, 1, 1, 1, 1, 0, 1, 1, 0,\n",
              "       1, 1, 1, 1, 1, 1, 1, 1, 1, 1, 1, 1, 0, 1, 0, 0, 1, 0, 1, 1, 1, 1,\n",
              "       1, 0, 1, 1, 0, 1, 0, 1, 1, 0, 1, 0, 1, 1, 1, 1, 1, 1, 1, 1, 0, 0,\n",
              "       1, 1, 1, 1, 1, 1, 0, 1, 1, 1, 1, 1, 1, 1, 1, 1, 1, 0, 1, 1, 1, 1,\n",
              "       1, 1, 1, 0, 1, 0, 1, 1, 0, 1, 1, 1, 1, 1, 0, 0, 1, 0, 1, 0, 1, 1,\n",
              "       1, 1, 1, 0, 1, 1, 0, 1, 0, 1, 0, 0, 1, 1, 1, 0, 1, 1, 1, 1, 1, 1,\n",
              "       1, 1, 1, 1, 1, 0, 1, 0, 0, 1, 1, 1, 1, 1, 1, 1, 1, 1, 1, 1, 1, 1,\n",
              "       1, 1, 1, 1, 1, 1, 1, 1, 1, 1, 1, 1, 0, 0, 0, 0, 0, 0, 1])"
            ]
          },
          "metadata": {},
          "execution_count": 42
        }
      ]
    },
    {
      "cell_type": "code",
      "source": [
        "data['target_names']      #target value is 0 for Malignant type and 1 for Belign type"
      ],
      "metadata": {
        "colab": {
          "base_uri": "https://localhost:8080/"
        },
        "id": "MpMZyIz5WIK2",
        "outputId": "172e8c94-83ac-429b-c99e-e6106bb081aa"
      },
      "execution_count": 43,
      "outputs": [
        {
          "output_type": "execute_result",
          "data": {
            "text/plain": [
              "array(['malignant', 'benign'], dtype='<U9')"
            ]
          },
          "metadata": {},
          "execution_count": 43
        }
      ]
    },
    {
      "cell_type": "code",
      "source": [
        "data['filename']"
      ],
      "metadata": {
        "colab": {
          "base_uri": "https://localhost:8080/",
          "height": 35
        },
        "id": "tgCX61JuWVXJ",
        "outputId": "e43f2894-859e-40b7-d81c-6a917ffdedf2"
      },
      "execution_count": 44,
      "outputs": [
        {
          "output_type": "execute_result",
          "data": {
            "application/vnd.google.colaboratory.intrinsic+json": {
              "type": "string"
            },
            "text/plain": [
              "'breast_cancer.csv'"
            ]
          },
          "metadata": {},
          "execution_count": 44
        }
      ]
    },
    {
      "cell_type": "code",
      "source": [
        "feature = data['data']    #features ~~ values of sample\n",
        "label = data['target']    #label ~~ sample type (cancerous/non-cancerous)"
      ],
      "metadata": {
        "id": "WHNl_C-8nDZI"
      },
      "execution_count": 45,
      "outputs": []
    },
    {
      "cell_type": "code",
      "source": [
        "print(feature.shape)\n",
        "print(label.shape)"
      ],
      "metadata": {
        "colab": {
          "base_uri": "https://localhost:8080/"
        },
        "id": "UkpIHz0yn49M",
        "outputId": "a4675ebd-d3bd-4542-b70f-3dafe8b51c36"
      },
      "execution_count": 46,
      "outputs": [
        {
          "output_type": "stream",
          "name": "stdout",
          "text": [
            "(569, 30)\n",
            "(569,)\n"
          ]
        }
      ]
    },
    {
      "cell_type": "code",
      "source": [
        "#scaling the feature so that all values become closer to each other for better operations\n",
        "\n",
        "scale = StandardScaler()\n",
        "\n",
        "feature = scale.fit_transform(feature)"
      ],
      "metadata": {
        "id": "h_p9Fjj2ocHB"
      },
      "execution_count": 47,
      "outputs": []
    },
    {
      "cell_type": "code",
      "source": [
        "j = 0\n",
        "for i in data['feature_names']:\n",
        "  print(i,\":\",feature[0][j])\n",
        "  j+=1"
      ],
      "metadata": {
        "colab": {
          "base_uri": "https://localhost:8080/"
        },
        "id": "NoO2RDEZouBY",
        "outputId": "98c950cd-a906-4b7b-cd83-c189c039ec13"
      },
      "execution_count": 48,
      "outputs": [
        {
          "output_type": "stream",
          "name": "stdout",
          "text": [
            "mean radius : 1.0970639814699807\n",
            "mean texture : -2.0733350146975935\n",
            "mean perimeter : 1.2699336881399383\n",
            "mean area : 0.9843749048031144\n",
            "mean smoothness : 1.568466329243428\n",
            "mean compactness : 3.2835146709868264\n",
            "mean concavity : 2.652873983743168\n",
            "mean concave points : 2.532475216403245\n",
            "mean symmetry : 2.2175150059646405\n",
            "mean fractal dimension : 2.255746885296269\n",
            "radius error : 2.4897339267376193\n",
            "texture error : -0.5652650590684639\n",
            "perimeter error : 2.833030865855184\n",
            "area error : 2.4875775569611043\n",
            "smoothness error : -0.21400164666895383\n",
            "compactness error : 1.3168615683959484\n",
            "concavity error : 0.72402615808036\n",
            "concave points error : 0.6608199414286064\n",
            "symmetry error : 1.1487566671861758\n",
            "fractal dimension error : 0.9070830809973359\n",
            "worst radius : 1.8866896251792757\n",
            "worst texture : -1.3592934737640827\n",
            "worst perimeter : 2.3036006236225606\n",
            "worst area : 2.0012374893299207\n",
            "worst smoothness : 1.3076862710715387\n",
            "worst compactness : 2.616665023512603\n",
            "worst concavity : 2.1095263465722556\n",
            "worst concave points : 2.296076127561788\n",
            "worst symmetry : 2.750622244124955\n",
            "worst fractal dimension : 1.9370146123781782\n"
          ]
        }
      ]
    },
    {
      "cell_type": "code",
      "source": [
        " print(data['target_names'][label[100]])"
      ],
      "metadata": {
        "id": "nkkjEOWMoz_v",
        "colab": {
          "base_uri": "https://localhost:8080/"
        },
        "outputId": "72ec0216-0bb2-44eb-c995-431de171efb1"
      },
      "execution_count": 49,
      "outputs": [
        {
          "output_type": "stream",
          "name": "stdout",
          "text": [
            "malignant\n"
          ]
        }
      ]
    },
    {
      "cell_type": "code",
      "source": [
        "df_frt = pd.DataFrame(feature , columns = data['feature_names'])\n",
        "df_lbl = pd.DataFrame(label , columns = ['label'])\n",
        "df = pd.concat([df_frt, df_lbl], axis=1)\n",
        "df = df.sample(frac = 1)\n",
        "\n",
        "feature = df.values[ : , : 30]\n",
        "label = df.values[ : ,30: ]"
      ],
      "metadata": {
        "id": "Y-0hhc-nfUJY"
      },
      "execution_count": 50,
      "outputs": []
    },
    {
      "cell_type": "code",
      "source": [
        "df"
      ],
      "metadata": {
        "colab": {
          "base_uri": "https://localhost:8080/",
          "height": 522
        },
        "id": "fhEvRe7uf5cd",
        "outputId": "8967bed4-3ebf-4b30-dd83-749a42eda7af"
      },
      "execution_count": 51,
      "outputs": [
        {
          "output_type": "execute_result",
          "data": {
            "text/html": [
              "\n",
              "  <div id=\"df-11c0e8e3-ec79-4fd1-a3bc-544496e84ffa\">\n",
              "    <div class=\"colab-df-container\">\n",
              "      <div>\n",
              "<style scoped>\n",
              "    .dataframe tbody tr th:only-of-type {\n",
              "        vertical-align: middle;\n",
              "    }\n",
              "\n",
              "    .dataframe tbody tr th {\n",
              "        vertical-align: top;\n",
              "    }\n",
              "\n",
              "    .dataframe thead th {\n",
              "        text-align: right;\n",
              "    }\n",
              "</style>\n",
              "<table border=\"1\" class=\"dataframe\">\n",
              "  <thead>\n",
              "    <tr style=\"text-align: right;\">\n",
              "      <th></th>\n",
              "      <th>mean radius</th>\n",
              "      <th>mean texture</th>\n",
              "      <th>mean perimeter</th>\n",
              "      <th>mean area</th>\n",
              "      <th>mean smoothness</th>\n",
              "      <th>mean compactness</th>\n",
              "      <th>mean concavity</th>\n",
              "      <th>mean concave points</th>\n",
              "      <th>mean symmetry</th>\n",
              "      <th>mean fractal dimension</th>\n",
              "      <th>radius error</th>\n",
              "      <th>texture error</th>\n",
              "      <th>perimeter error</th>\n",
              "      <th>area error</th>\n",
              "      <th>smoothness error</th>\n",
              "      <th>compactness error</th>\n",
              "      <th>concavity error</th>\n",
              "      <th>concave points error</th>\n",
              "      <th>symmetry error</th>\n",
              "      <th>fractal dimension error</th>\n",
              "      <th>worst radius</th>\n",
              "      <th>worst texture</th>\n",
              "      <th>worst perimeter</th>\n",
              "      <th>worst area</th>\n",
              "      <th>worst smoothness</th>\n",
              "      <th>worst compactness</th>\n",
              "      <th>worst concavity</th>\n",
              "      <th>worst concave points</th>\n",
              "      <th>worst symmetry</th>\n",
              "      <th>worst fractal dimension</th>\n",
              "      <th>label</th>\n",
              "    </tr>\n",
              "  </thead>\n",
              "  <tbody>\n",
              "    <tr>\n",
              "      <th>282</th>\n",
              "      <td>1.497524</td>\n",
              "      <td>-0.258223</td>\n",
              "      <td>1.451171</td>\n",
              "      <td>1.393926</td>\n",
              "      <td>0.522334</td>\n",
              "      <td>0.755387</td>\n",
              "      <td>0.926565</td>\n",
              "      <td>1.179323</td>\n",
              "      <td>0.297119</td>\n",
              "      <td>-0.549692</td>\n",
              "      <td>0.237226</td>\n",
              "      <td>-0.402337</td>\n",
              "      <td>0.018287</td>\n",
              "      <td>0.282126</td>\n",
              "      <td>-0.462345</td>\n",
              "      <td>-0.194950</td>\n",
              "      <td>-0.043227</td>\n",
              "      <td>0.518075</td>\n",
              "      <td>-0.522127</td>\n",
              "      <td>-0.692164</td>\n",
              "      <td>1.557428</td>\n",
              "      <td>0.484098</td>\n",
              "      <td>1.344497</td>\n",
              "      <td>1.313894</td>\n",
              "      <td>0.851793</td>\n",
              "      <td>0.767407</td>\n",
              "      <td>0.764781</td>\n",
              "      <td>1.683967</td>\n",
              "      <td>1.115046</td>\n",
              "      <td>-0.336696</td>\n",
              "      <td>0</td>\n",
              "    </tr>\n",
              "    <tr>\n",
              "      <th>246</th>\n",
              "      <td>-0.263364</td>\n",
              "      <td>-0.432753</td>\n",
              "      <td>-0.322891</td>\n",
              "      <td>-0.322206</td>\n",
              "      <td>-1.722935</td>\n",
              "      <td>-1.120051</td>\n",
              "      <td>-0.570489</td>\n",
              "      <td>-0.976796</td>\n",
              "      <td>-1.185164</td>\n",
              "      <td>-0.914016</td>\n",
              "      <td>-0.874050</td>\n",
              "      <td>0.696974</td>\n",
              "      <td>-0.986625</td>\n",
              "      <td>-0.589142</td>\n",
              "      <td>-0.260004</td>\n",
              "      <td>-0.547055</td>\n",
              "      <td>-0.036596</td>\n",
              "      <td>-1.040273</td>\n",
              "      <td>-0.111671</td>\n",
              "      <td>-0.584362</td>\n",
              "      <td>-0.482335</td>\n",
              "      <td>0.348938</td>\n",
              "      <td>-0.565371</td>\n",
              "      <td>-0.489725</td>\n",
              "      <td>-0.976164</td>\n",
              "      <td>-0.658182</td>\n",
              "      <td>-0.203360</td>\n",
              "      <td>-0.988301</td>\n",
              "      <td>-0.216387</td>\n",
              "      <td>-0.663096</td>\n",
              "      <td>1</td>\n",
              "    </tr>\n",
              "    <tr>\n",
              "      <th>256</th>\n",
              "      <td>1.540126</td>\n",
              "      <td>2.206141</td>\n",
              "      <td>1.714788</td>\n",
              "      <td>1.570260</td>\n",
              "      <td>-0.267602</td>\n",
              "      <td>1.932274</td>\n",
              "      <td>1.124934</td>\n",
              "      <td>1.689012</td>\n",
              "      <td>0.297119</td>\n",
              "      <td>-0.067706</td>\n",
              "      <td>1.578769</td>\n",
              "      <td>-0.032392</td>\n",
              "      <td>2.124642</td>\n",
              "      <td>1.453497</td>\n",
              "      <td>-0.228336</td>\n",
              "      <td>1.239175</td>\n",
              "      <td>0.223355</td>\n",
              "      <td>0.550517</td>\n",
              "      <td>-0.143151</td>\n",
              "      <td>0.551149</td>\n",
              "      <td>1.818352</td>\n",
              "      <td>1.724968</td>\n",
              "      <td>2.124886</td>\n",
              "      <td>1.837752</td>\n",
              "      <td>-0.187118</td>\n",
              "      <td>1.772508</td>\n",
              "      <td>0.733597</td>\n",
              "      <td>1.210420</td>\n",
              "      <td>-0.133881</td>\n",
              "      <td>0.917364</td>\n",
              "      <td>0</td>\n",
              "    </tr>\n",
              "    <tr>\n",
              "      <th>189</th>\n",
              "      <td>-0.518977</td>\n",
              "      <td>-0.788794</td>\n",
              "      <td>-0.541199</td>\n",
              "      <td>-0.543761</td>\n",
              "      <td>-1.107354</td>\n",
              "      <td>-0.602865</td>\n",
              "      <td>-0.632260</td>\n",
              "      <td>-0.835187</td>\n",
              "      <td>-0.527994</td>\n",
              "      <td>-1.142250</td>\n",
              "      <td>-0.602637</td>\n",
              "      <td>-0.691906</td>\n",
              "      <td>-0.583670</td>\n",
              "      <td>-0.484413</td>\n",
              "      <td>-0.348340</td>\n",
              "      <td>-0.187685</td>\n",
              "      <td>-0.355567</td>\n",
              "      <td>-0.869953</td>\n",
              "      <td>-0.035391</td>\n",
              "      <td>-0.782944</td>\n",
              "      <td>-0.604513</td>\n",
              "      <td>-0.991267</td>\n",
              "      <td>-0.613922</td>\n",
              "      <td>-0.586937</td>\n",
              "      <td>-0.998082</td>\n",
              "      <td>-0.567850</td>\n",
              "      <td>-0.623143</td>\n",
              "      <td>-1.011902</td>\n",
              "      <td>-0.677455</td>\n",
              "      <td>-1.157405</td>\n",
              "      <td>1</td>\n",
              "    </tr>\n",
              "    <tr>\n",
              "      <th>155</th>\n",
              "      <td>-0.533178</td>\n",
              "      <td>-0.314072</td>\n",
              "      <td>-0.564266</td>\n",
              "      <td>-0.553431</td>\n",
              "      <td>-0.698865</td>\n",
              "      <td>-0.711647</td>\n",
              "      <td>-0.627112</td>\n",
              "      <td>-0.660562</td>\n",
              "      <td>0.578241</td>\n",
              "      <td>-0.073377</td>\n",
              "      <td>-0.668325</td>\n",
              "      <td>-0.425561</td>\n",
              "      <td>-0.684162</td>\n",
              "      <td>-0.524236</td>\n",
              "      <td>-0.507680</td>\n",
              "      <td>-0.550967</td>\n",
              "      <td>-0.396350</td>\n",
              "      <td>-0.628098</td>\n",
              "      <td>-0.309029</td>\n",
              "      <td>-0.495851</td>\n",
              "      <td>-0.554813</td>\n",
              "      <td>-0.074456</td>\n",
              "      <td>-0.615412</td>\n",
              "      <td>-0.556174</td>\n",
              "      <td>-0.467667</td>\n",
              "      <td>-0.480063</td>\n",
              "      <td>-0.373672</td>\n",
              "      <td>-0.494807</td>\n",
              "      <td>0.343365</td>\n",
              "      <td>-0.145512</td>\n",
              "      <td>1</td>\n",
              "    </tr>\n",
              "    <tr>\n",
              "      <th>...</th>\n",
              "      <td>...</td>\n",
              "      <td>...</td>\n",
              "      <td>...</td>\n",
              "      <td>...</td>\n",
              "      <td>...</td>\n",
              "      <td>...</td>\n",
              "      <td>...</td>\n",
              "      <td>...</td>\n",
              "      <td>...</td>\n",
              "      <td>...</td>\n",
              "      <td>...</td>\n",
              "      <td>...</td>\n",
              "      <td>...</td>\n",
              "      <td>...</td>\n",
              "      <td>...</td>\n",
              "      <td>...</td>\n",
              "      <td>...</td>\n",
              "      <td>...</td>\n",
              "      <td>...</td>\n",
              "      <td>...</td>\n",
              "      <td>...</td>\n",
              "      <td>...</td>\n",
              "      <td>...</td>\n",
              "      <td>...</td>\n",
              "      <td>...</td>\n",
              "      <td>...</td>\n",
              "      <td>...</td>\n",
              "      <td>...</td>\n",
              "      <td>...</td>\n",
              "      <td>...</td>\n",
              "      <td>...</td>\n",
              "    </tr>\n",
              "    <tr>\n",
              "      <th>261</th>\n",
              "      <td>0.915295</td>\n",
              "      <td>0.877386</td>\n",
              "      <td>0.783889</td>\n",
              "      <td>0.791260</td>\n",
              "      <td>-0.693171</td>\n",
              "      <td>-0.785368</td>\n",
              "      <td>-0.751909</td>\n",
              "      <td>-0.530044</td>\n",
              "      <td>-0.904042</td>\n",
              "      <td>-1.378990</td>\n",
              "      <td>-0.016141</td>\n",
              "      <td>0.181700</td>\n",
              "      <td>-0.143093</td>\n",
              "      <td>0.089611</td>\n",
              "      <td>-0.438344</td>\n",
              "      <td>-0.805823</td>\n",
              "      <td>-0.644364</td>\n",
              "      <td>-0.669137</td>\n",
              "      <td>-0.778813</td>\n",
              "      <td>-0.838547</td>\n",
              "      <td>0.741523</td>\n",
              "      <td>0.943318</td>\n",
              "      <td>0.623679</td>\n",
              "      <td>0.593149</td>\n",
              "      <td>-0.366845</td>\n",
              "      <td>-0.672177</td>\n",
              "      <td>-0.724851</td>\n",
              "      <td>-0.491153</td>\n",
              "      <td>-0.725988</td>\n",
              "      <td>-1.041586</td>\n",
              "      <td>0</td>\n",
              "    </tr>\n",
              "    <tr>\n",
              "      <th>498</th>\n",
              "      <td>1.239071</td>\n",
              "      <td>-0.411809</td>\n",
              "      <td>1.208148</td>\n",
              "      <td>1.174930</td>\n",
              "      <td>0.344421</td>\n",
              "      <td>0.518494</td>\n",
              "      <td>0.757073</td>\n",
              "      <td>1.106842</td>\n",
              "      <td>0.074411</td>\n",
              "      <td>0.591480</td>\n",
              "      <td>1.397226</td>\n",
              "      <td>-0.311801</td>\n",
              "      <td>0.982606</td>\n",
              "      <td>1.219619</td>\n",
              "      <td>0.311020</td>\n",
              "      <td>0.372328</td>\n",
              "      <td>0.413013</td>\n",
              "      <td>0.638111</td>\n",
              "      <td>-0.529391</td>\n",
              "      <td>0.552283</td>\n",
              "      <td>1.342063</td>\n",
              "      <td>-0.455510</td>\n",
              "      <td>1.165782</td>\n",
              "      <td>1.264672</td>\n",
              "      <td>0.387133</td>\n",
              "      <td>0.347555</td>\n",
              "      <td>0.389134</td>\n",
              "      <td>0.787120</td>\n",
              "      <td>-0.632157</td>\n",
              "      <td>0.582098</td>\n",
              "      <td>0</td>\n",
              "    </tr>\n",
              "    <tr>\n",
              "      <th>354</th>\n",
              "      <td>-0.848433</td>\n",
              "      <td>-1.214647</td>\n",
              "      <td>-0.853833</td>\n",
              "      <td>-0.768730</td>\n",
              "      <td>-1.680948</td>\n",
              "      <td>-0.828198</td>\n",
              "      <td>-0.549271</td>\n",
              "      <td>-0.882390</td>\n",
              "      <td>-0.444023</td>\n",
              "      <td>-0.278929</td>\n",
              "      <td>0.061457</td>\n",
              "      <td>-0.739624</td>\n",
              "      <td>0.229665</td>\n",
              "      <td>-0.252955</td>\n",
              "      <td>-0.500013</td>\n",
              "      <td>0.469017</td>\n",
              "      <td>0.436223</td>\n",
              "      <td>0.472657</td>\n",
              "      <td>1.268624</td>\n",
              "      <td>0.391905</td>\n",
              "      <td>-0.859225</td>\n",
              "      <td>-1.605188</td>\n",
              "      <td>-0.823317</td>\n",
              "      <td>-0.750775</td>\n",
              "      <td>-1.916882</td>\n",
              "      <td>-0.818489</td>\n",
              "      <td>-0.729648</td>\n",
              "      <td>-1.147876</td>\n",
              "      <td>-0.525383</td>\n",
              "      <td>-0.762844</td>\n",
              "      <td>1</td>\n",
              "    </tr>\n",
              "    <tr>\n",
              "      <th>166</th>\n",
              "      <td>-0.944998</td>\n",
              "      <td>-2.229249</td>\n",
              "      <td>-0.955573</td>\n",
              "      <td>-0.845521</td>\n",
              "      <td>-0.029909</td>\n",
              "      <td>-0.890359</td>\n",
              "      <td>-0.797107</td>\n",
              "      <td>-0.823838</td>\n",
              "      <td>-1.572164</td>\n",
              "      <td>0.170451</td>\n",
              "      <td>-0.838680</td>\n",
              "      <td>-1.470441</td>\n",
              "      <td>-0.861383</td>\n",
              "      <td>-0.634905</td>\n",
              "      <td>0.256017</td>\n",
              "      <td>-0.875350</td>\n",
              "      <td>-0.693105</td>\n",
              "      <td>-1.046599</td>\n",
              "      <td>-0.968906</td>\n",
              "      <td>-0.633535</td>\n",
              "      <td>-0.966908</td>\n",
              "      <td>-2.223994</td>\n",
              "      <td>-1.000840</td>\n",
              "      <td>-0.820212</td>\n",
              "      <td>0.492339</td>\n",
              "      <td>-0.817853</td>\n",
              "      <td>-0.803530</td>\n",
              "      <td>-1.044183</td>\n",
              "      <td>-1.311625</td>\n",
              "      <td>-0.385462</td>\n",
              "      <td>1</td>\n",
              "    </tr>\n",
              "    <tr>\n",
              "      <th>107</th>\n",
              "      <td>-0.501936</td>\n",
              "      <td>-0.174448</td>\n",
              "      <td>-0.533785</td>\n",
              "      <td>-0.535229</td>\n",
              "      <td>-0.824827</td>\n",
              "      <td>-0.685873</td>\n",
              "      <td>-0.783045</td>\n",
              "      <td>-0.766317</td>\n",
              "      <td>-0.765306</td>\n",
              "      <td>-0.303028</td>\n",
              "      <td>-1.029607</td>\n",
              "      <td>-0.585041</td>\n",
              "      <td>-0.998803</td>\n",
              "      <td>-0.684475</td>\n",
              "      <td>-1.194708</td>\n",
              "      <td>-0.838798</td>\n",
              "      <td>-0.670558</td>\n",
              "      <td>-1.011886</td>\n",
              "      <td>-0.972539</td>\n",
              "      <td>-0.922519</td>\n",
              "      <td>-0.616938</td>\n",
              "      <td>0.295199</td>\n",
              "      <td>-0.646389</td>\n",
              "      <td>-0.591508</td>\n",
              "      <td>-0.612326</td>\n",
              "      <td>-0.368739</td>\n",
              "      <td>-0.376550</td>\n",
              "      <td>-0.459633</td>\n",
              "      <td>0.133053</td>\n",
              "      <td>-0.670300</td>\n",
              "      <td>1</td>\n",
              "    </tr>\n",
              "  </tbody>\n",
              "</table>\n",
              "<p>569 rows × 31 columns</p>\n",
              "</div>\n",
              "      <button class=\"colab-df-convert\" onclick=\"convertToInteractive('df-11c0e8e3-ec79-4fd1-a3bc-544496e84ffa')\"\n",
              "              title=\"Convert this dataframe to an interactive table.\"\n",
              "              style=\"display:none;\">\n",
              "        \n",
              "  <svg xmlns=\"http://www.w3.org/2000/svg\" height=\"24px\"viewBox=\"0 0 24 24\"\n",
              "       width=\"24px\">\n",
              "    <path d=\"M0 0h24v24H0V0z\" fill=\"none\"/>\n",
              "    <path d=\"M18.56 5.44l.94 2.06.94-2.06 2.06-.94-2.06-.94-.94-2.06-.94 2.06-2.06.94zm-11 1L8.5 8.5l.94-2.06 2.06-.94-2.06-.94L8.5 2.5l-.94 2.06-2.06.94zm10 10l.94 2.06.94-2.06 2.06-.94-2.06-.94-.94-2.06-.94 2.06-2.06.94z\"/><path d=\"M17.41 7.96l-1.37-1.37c-.4-.4-.92-.59-1.43-.59-.52 0-1.04.2-1.43.59L10.3 9.45l-7.72 7.72c-.78.78-.78 2.05 0 2.83L4 21.41c.39.39.9.59 1.41.59.51 0 1.02-.2 1.41-.59l7.78-7.78 2.81-2.81c.8-.78.8-2.07 0-2.86zM5.41 20L4 18.59l7.72-7.72 1.47 1.35L5.41 20z\"/>\n",
              "  </svg>\n",
              "      </button>\n",
              "      \n",
              "  <style>\n",
              "    .colab-df-container {\n",
              "      display:flex;\n",
              "      flex-wrap:wrap;\n",
              "      gap: 12px;\n",
              "    }\n",
              "\n",
              "    .colab-df-convert {\n",
              "      background-color: #E8F0FE;\n",
              "      border: none;\n",
              "      border-radius: 50%;\n",
              "      cursor: pointer;\n",
              "      display: none;\n",
              "      fill: #1967D2;\n",
              "      height: 32px;\n",
              "      padding: 0 0 0 0;\n",
              "      width: 32px;\n",
              "    }\n",
              "\n",
              "    .colab-df-convert:hover {\n",
              "      background-color: #E2EBFA;\n",
              "      box-shadow: 0px 1px 2px rgba(60, 64, 67, 0.3), 0px 1px 3px 1px rgba(60, 64, 67, 0.15);\n",
              "      fill: #174EA6;\n",
              "    }\n",
              "\n",
              "    [theme=dark] .colab-df-convert {\n",
              "      background-color: #3B4455;\n",
              "      fill: #D2E3FC;\n",
              "    }\n",
              "\n",
              "    [theme=dark] .colab-df-convert:hover {\n",
              "      background-color: #434B5C;\n",
              "      box-shadow: 0px 1px 3px 1px rgba(0, 0, 0, 0.15);\n",
              "      filter: drop-shadow(0px 1px 2px rgba(0, 0, 0, 0.3));\n",
              "      fill: #FFFFFF;\n",
              "    }\n",
              "  </style>\n",
              "\n",
              "      <script>\n",
              "        const buttonEl =\n",
              "          document.querySelector('#df-11c0e8e3-ec79-4fd1-a3bc-544496e84ffa button.colab-df-convert');\n",
              "        buttonEl.style.display =\n",
              "          google.colab.kernel.accessAllowed ? 'block' : 'none';\n",
              "\n",
              "        async function convertToInteractive(key) {\n",
              "          const element = document.querySelector('#df-11c0e8e3-ec79-4fd1-a3bc-544496e84ffa');\n",
              "          const dataTable =\n",
              "            await google.colab.kernel.invokeFunction('convertToInteractive',\n",
              "                                                     [key], {});\n",
              "          if (!dataTable) return;\n",
              "\n",
              "          const docLinkHtml = 'Like what you see? Visit the ' +\n",
              "            '<a target=\"_blank\" href=https://colab.research.google.com/notebooks/data_table.ipynb>data table notebook</a>'\n",
              "            + ' to learn more about interactive tables.';\n",
              "          element.innerHTML = '';\n",
              "          dataTable['output_type'] = 'display_data';\n",
              "          await google.colab.output.renderOutput(dataTable, element);\n",
              "          const docLink = document.createElement('div');\n",
              "          docLink.innerHTML = docLinkHtml;\n",
              "          element.appendChild(docLink);\n",
              "        }\n",
              "      </script>\n",
              "    </div>\n",
              "  </div>\n",
              "  "
            ],
            "text/plain": [
              "     mean radius  mean texture  ...  worst fractal dimension  label\n",
              "282     1.497524     -0.258223  ...                -0.336696      0\n",
              "246    -0.263364     -0.432753  ...                -0.663096      1\n",
              "256     1.540126      2.206141  ...                 0.917364      0\n",
              "189    -0.518977     -0.788794  ...                -1.157405      1\n",
              "155    -0.533178     -0.314072  ...                -0.145512      1\n",
              "..           ...           ...  ...                      ...    ...\n",
              "261     0.915295      0.877386  ...                -1.041586      0\n",
              "498     1.239071     -0.411809  ...                 0.582098      0\n",
              "354    -0.848433     -1.214647  ...                -0.762844      1\n",
              "166    -0.944998     -2.229249  ...                -0.385462      1\n",
              "107    -0.501936     -0.174448  ...                -0.670300      1\n",
              "\n",
              "[569 rows x 31 columns]"
            ]
          },
          "metadata": {},
          "execution_count": 51
        }
      ]
    },
    {
      "cell_type": "code",
      "source": [
        "#we have in total 569 samples in our dataset\n",
        "#we will use 500 samples for training, 35 samples for validation and 34 samples for testing"
      ],
      "metadata": {
        "id": "GGX80JpAf_ds"
      },
      "execution_count": 52,
      "outputs": []
    },
    {
      "cell_type": "markdown",
      "source": [
        "###**Defining training,testing and validating inputs and outputs**"
      ],
      "metadata": {
        "id": "doxYkla5ivyr"
      }
    },
    {
      "cell_type": "code",
      "source": [
        "#500 Training\n",
        "x_train = feature[:500]\n",
        "y_train = label[:500]\n",
        "\n",
        "#35 Validation\n",
        "x_val = feature[500:535]\n",
        "y_val = label[500:535]\n",
        "\n",
        "#34 Testing\n",
        "x_test = feature[535:]\n",
        "y_test = label[535:]"
      ],
      "metadata": {
        "id": "L00SXBdbilli"
      },
      "execution_count": 53,
      "outputs": []
    },
    {
      "cell_type": "markdown",
      "source": [
        "###**Working on neural networks**"
      ],
      "metadata": {
        "id": "bLx-_hyUkKYR"
      }
    },
    {
      "cell_type": "code",
      "source": [
        "model = Sequential()\n",
        "\n",
        "model.add(Dense(32, activation = 'relu', input_dim = 30))\n",
        "model.add(Dense(64, activation = 'relu'))\n",
        "model.add(Dense(128, activation = 'relu'))\n",
        "model.add(Dense(64, activation = 'relu'))\n",
        "model.add(Dense(32, activation = 'relu'))\n",
        "model.add(Dense(1, activation = 'sigmoid'))\n",
        "\n",
        "model.compile( loss = 'binary_crossentropy' , optimizer = 'adam' , metrics = ['accuracy'])"
      ],
      "metadata": {
        "id": "QFGU0zv9pspa"
      },
      "execution_count": 54,
      "outputs": []
    },
    {
      "cell_type": "code",
      "source": [
        "model.fit( x_train , y_train, epochs = 10, batch_size = 5, validation_data = (x_val, y_val))            "
      ],
      "metadata": {
        "colab": {
          "base_uri": "https://localhost:8080/"
        },
        "id": "-t-H1kfcqGss",
        "outputId": "90995614-3a9f-4d70-bf8b-44d8376ef720"
      },
      "execution_count": 33,
      "outputs": [
        {
          "output_type": "stream",
          "name": "stdout",
          "text": [
            "Epoch 1/10\n",
            "100/100 [==============================] - 0s 3ms/step - loss: 1.5733e-04 - accuracy: 1.0000 - val_loss: 1.0690e-04 - val_accuracy: 1.0000\n",
            "Epoch 2/10\n",
            "100/100 [==============================] - 0s 3ms/step - loss: 1.2650e-04 - accuracy: 1.0000 - val_loss: 7.7758e-05 - val_accuracy: 1.0000\n",
            "Epoch 3/10\n",
            "100/100 [==============================] - 0s 3ms/step - loss: 1.0366e-04 - accuracy: 1.0000 - val_loss: 5.7106e-05 - val_accuracy: 1.0000\n",
            "Epoch 4/10\n",
            "100/100 [==============================] - 0s 3ms/step - loss: 8.6903e-05 - accuracy: 1.0000 - val_loss: 4.7810e-05 - val_accuracy: 1.0000\n",
            "Epoch 5/10\n",
            "100/100 [==============================] - 0s 3ms/step - loss: 7.5894e-05 - accuracy: 1.0000 - val_loss: 3.3443e-05 - val_accuracy: 1.0000\n",
            "Epoch 6/10\n",
            "100/100 [==============================] - 0s 3ms/step - loss: 4.3390e-05 - accuracy: 1.0000 - val_loss: 1.8727e-05 - val_accuracy: 1.0000\n",
            "Epoch 7/10\n",
            "100/100 [==============================] - 0s 3ms/step - loss: 3.3880e-05 - accuracy: 1.0000 - val_loss: 1.0398e-05 - val_accuracy: 1.0000\n",
            "Epoch 8/10\n",
            "100/100 [==============================] - 0s 3ms/step - loss: 2.6412e-05 - accuracy: 1.0000 - val_loss: 1.0489e-05 - val_accuracy: 1.0000\n",
            "Epoch 9/10\n",
            "100/100 [==============================] - 0s 3ms/step - loss: 2.2596e-05 - accuracy: 1.0000 - val_loss: 7.6993e-06 - val_accuracy: 1.0000\n",
            "Epoch 10/10\n",
            "100/100 [==============================] - 0s 3ms/step - loss: 1.8786e-05 - accuracy: 1.0000 - val_loss: 6.0287e-06 - val_accuracy: 1.0000\n"
          ]
        },
        {
          "output_type": "execute_result",
          "data": {
            "text/plain": [
              "<keras.callbacks.History at 0x7fc98ff0ed90>"
            ]
          },
          "metadata": {},
          "execution_count": 33
        }
      ]
    },
    {
      "cell_type": "code",
      "source": [
        "model.evaluate(x_test , y_test)"
      ],
      "metadata": {
        "colab": {
          "base_uri": "https://localhost:8080/"
        },
        "id": "EpDiVjlesfCR",
        "outputId": "93309d72-40c6-4757-9ba4-d6fceba9963b"
      },
      "execution_count": 55,
      "outputs": [
        {
          "output_type": "stream",
          "name": "stdout",
          "text": [
            "2/2 [==============================] - 0s 8ms/step - loss: 0.6767 - accuracy: 0.7059\n"
          ]
        },
        {
          "output_type": "execute_result",
          "data": {
            "text/plain": [
              "[0.6766650676727295, 0.7058823704719543]"
            ]
          },
          "metadata": {},
          "execution_count": 55
        }
      ]
    },
    {
      "cell_type": "code",
      "source": [
        "model.evaluate(x_val , y_val)"
      ],
      "metadata": {
        "colab": {
          "base_uri": "https://localhost:8080/"
        },
        "id": "rJ5FSUz2uTNP",
        "outputId": "b82f07ba-5af6-42f4-b5e1-6c426ba01041"
      },
      "execution_count": 56,
      "outputs": [
        {
          "output_type": "stream",
          "name": "stdout",
          "text": [
            "2/2 [==============================] - 0s 5ms/step - loss: 0.6984 - accuracy: 0.6000\n"
          ]
        },
        {
          "output_type": "execute_result",
          "data": {
            "text/plain": [
              "[0.6983957886695862, 0.6000000238418579]"
            ]
          },
          "metadata": {},
          "execution_count": 56
        }
      ]
    },
    {
      "cell_type": "code",
      "source": [
        "for i in range(5):\n",
        "  sample = x_test[i]\n",
        "  sample = np.reshape(sample, (1,30))\n",
        "\n",
        "  if (model.predict(sample)[0][0] > 0.5):\n",
        "    print(\"prediction - Benign\")\n",
        "  else:\n",
        "    print(\"prediction - Malignant\")\n",
        "\n",
        "  if (y_test[i] == 1):\n",
        "    print(\"actual * Banign\")\n",
        "  else:\n",
        "    print(\"actual * Melignant\")\n",
        "  print(\"-----------\")"
      ],
      "metadata": {
        "colab": {
          "base_uri": "https://localhost:8080/"
        },
        "id": "bB8azLmLuYsW",
        "outputId": "b82be3ec-376a-4b61-d4ff-63583da58fda"
      },
      "execution_count": 57,
      "outputs": [
        {
          "output_type": "stream",
          "name": "stdout",
          "text": [
            "prediction - Benign\n",
            "actual * Banign\n",
            "-----------\n",
            "prediction - Benign\n",
            "actual * Melignant\n",
            "-----------\n",
            "prediction - Benign\n",
            "actual * Banign\n",
            "-----------\n",
            "prediction - Benign\n",
            "actual * Banign\n",
            "-----------\n",
            "prediction - Benign\n",
            "actual * Banign\n",
            "-----------\n"
          ]
        }
      ]
    },
    {
      "cell_type": "code",
      "source": [
        "# i ~~ 1   (label)\n",
        "t = 0\n",
        "for i in y_val:\n",
        "  if (i == 1):\n",
        "    t += 1\n",
        "\n",
        "print(t)"
      ],
      "metadata": {
        "id": "b_YuqieOvjJI",
        "colab": {
          "base_uri": "https://localhost:8080/"
        },
        "outputId": "0fae4440-ce74-4f35-ec48-0b5cfae7bd98"
      },
      "execution_count": 58,
      "outputs": [
        {
          "output_type": "stream",
          "name": "stdout",
          "text": [
            "20\n"
          ]
        }
      ]
    },
    {
      "cell_type": "code",
      "source": [
        "# i ~~ 1    (label)\n",
        "t = 0\n",
        "for i in y_test:\n",
        "  if (i == 1):\n",
        "    t += 1\n",
        "\n",
        "print(t)"
      ],
      "metadata": {
        "colab": {
          "base_uri": "https://localhost:8080/"
        },
        "id": "9dg6je6b8L2u",
        "outputId": "08064f90-4476-4ea8-b0a9-31e22419018f"
      },
      "execution_count": 59,
      "outputs": [
        {
          "output_type": "stream",
          "name": "stdout",
          "text": [
            "24\n"
          ]
        }
      ]
    }
  ],
  "metadata": {
    "colab": {
      "name": "breast_cancer_detection.ipynb",
      "provenance": [],
      "collapsed_sections": []
    },
    "kernelspec": {
      "display_name": "Python 3",
      "name": "python3"
    },
    "language_info": {
      "name": "python"
    }
  },
  "nbformat": 4,
  "nbformat_minor": 0
}